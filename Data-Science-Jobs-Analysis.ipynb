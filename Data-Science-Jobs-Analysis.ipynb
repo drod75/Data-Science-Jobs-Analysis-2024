{
 "cells": [
  {
   "cell_type": "markdown",
   "metadata": {},
   "source": [
    "Welcome, this project will analyze the __*Data Science Job Market & Salaries 2024*__ posted by [Muhammad Ehsan](https://www.kaggle.com/muhammadehsan000) on Kaggle, thanks goes to the creator and the first steps we'll take is listing out tasks and what we aim to achieve."
   ]
  },
  {
   "cell_type": "markdown",
   "metadata": {},
   "source": [
    "The tasks of the project is the following:\n",
    "* Describe the columns and basic info of the dataset\n",
    "* Explore basic values in each column\n",
    "* Clean dataset as per our needs\n",
    "* Analyze important trends and connections\n",
    "* Describe these connections using minimal words with graphs"
   ]
  },
  {
   "cell_type": "markdown",
   "metadata": {},
   "source": [
    "The aim of this project is to provide a deeper explanation of the Data Science Job Market to those who wish to read and learn more about the big industry."
   ]
  },
  {
   "cell_type": "markdown",
   "metadata": {},
   "source": [
    "---"
   ]
  },
  {
   "cell_type": "code",
   "execution_count": 1,
   "metadata": {},
   "outputs": [],
   "source": [
    "import pandas as pd\n",
    "import matplotlib.pyplot as plt\n",
    "import seaborn as sns\n",
    "\n",
    "ds_jobs = pd.read_csv(\"Data-Science-Jobs.csv\")"
   ]
  },
  {
   "cell_type": "markdown",
   "metadata": {},
   "source": [
    "The first steps we will take are simple, we will first import some important python packages and then use them to quickly import out dataset, using this we will begin our analysis."
   ]
  },
  {
   "cell_type": "markdown",
   "metadata": {},
   "source": [
    "---"
   ]
  },
  {
   "cell_type": "code",
   "execution_count": null,
   "metadata": {},
   "outputs": [],
   "source": []
  },
  {
   "cell_type": "markdown",
   "metadata": {},
   "source": []
  }
 ],
 "metadata": {
  "kernelspec": {
   "display_name": "Python 3",
   "language": "python",
   "name": "python3"
  },
  "language_info": {
   "codemirror_mode": {
    "name": "ipython",
    "version": 3
   },
   "file_extension": ".py",
   "mimetype": "text/x-python",
   "name": "python",
   "nbconvert_exporter": "python",
   "pygments_lexer": "ipython3",
   "version": "3.11.4"
  }
 },
 "nbformat": 4,
 "nbformat_minor": 2
}
