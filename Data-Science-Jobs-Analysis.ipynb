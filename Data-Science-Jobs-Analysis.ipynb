{
 "cells": [
  {
   "cell_type": "markdown",
   "metadata": {},
   "source": [
    "Welcome, this project will analyze the __*Data Science Job Market & Salaries 2024*__ posted by [Muhammad Ehsan](https://www.kaggle.com/muhammadehsan000) on Kaggle, thanks goes to the creator and the first steps we'll take is listing out tasks and what we aim to achieve."
   ]
  },
  {
   "cell_type": "markdown",
   "metadata": {},
   "source": [
    "The tasks of the project is the following:\n",
    "* Describe the columns and basic info of the dataset\n",
    "* Explore basic values in each column\n",
    "* Clean dataset as per our needs\n",
    "* Analyze important trends and connections\n",
    "* Describe these connections using minimal words with graphs"
   ]
  },
  {
   "cell_type": "markdown",
   "metadata": {},
   "source": [
    "The aim of this project is to provide a deeper explanation of the Data Science Job Market to those who wish to read and learn more about the big industry."
   ]
  },
  {
   "cell_type": "markdown",
   "metadata": {},
   "source": [
    "---"
   ]
  },
  {
   "cell_type": "code",
   "execution_count": 1,
   "metadata": {},
   "outputs": [],
   "source": [
    "import pandas as pd\n",
    "import matplotlib.pyplot as plt\n",
    "import seaborn as sns\n",
    "\n",
    "ds_jobs = pd.read_csv(\"Data-Science-Jobs.csv\")"
   ]
  },
  {
   "cell_type": "markdown",
   "metadata": {},
   "source": [
    "The first steps we will take are simple, we will first import some important python packages and then use them to quickly import out dataset, using this we will begin our analysis. It is important to import these as they will allow us to read in our file and graph it as per our needs, to go even deeper into this the first two packages are essential for working with datasets in python, they give you tons of functionality and ways to communicate with your data on a more technical level."
   ]
  },
  {
   "cell_type": "markdown",
   "metadata": {},
   "source": [
    "---"
   ]
  },
  {
   "cell_type": "code",
   "execution_count": 2,
   "metadata": {},
   "outputs": [
    {
     "data": {
      "text/html": [
       "<div>\n",
       "<style scoped>\n",
       "    .dataframe tbody tr th:only-of-type {\n",
       "        vertical-align: middle;\n",
       "    }\n",
       "\n",
       "    .dataframe tbody tr th {\n",
       "        vertical-align: top;\n",
       "    }\n",
       "\n",
       "    .dataframe thead th {\n",
       "        text-align: right;\n",
       "    }\n",
       "</style>\n",
       "<table border=\"1\" class=\"dataframe\">\n",
       "  <thead>\n",
       "    <tr style=\"text-align: right;\">\n",
       "      <th></th>\n",
       "      <th>Position</th>\n",
       "      <th>Job Title</th>\n",
       "      <th>Company Name</th>\n",
       "      <th>Location</th>\n",
       "      <th>Salary</th>\n",
       "      <th>Date</th>\n",
       "      <th>Logo</th>\n",
       "      <th>Job Link</th>\n",
       "      <th>Company Rating</th>\n",
       "    </tr>\n",
       "  </thead>\n",
       "  <tbody>\n",
       "    <tr>\n",
       "      <th>0</th>\n",
       "      <td>1</td>\n",
       "      <td>Associate Stop Loss Underwriter</td>\n",
       "      <td>The Insurance Center\\n2.7</td>\n",
       "      <td>Onalaska, WI</td>\n",
       "      <td>$57K - $84K (Glassdoor est.)</td>\n",
       "      <td>30d+</td>\n",
       "      <td>https://media.glassdoor.com/sql/453835/the-ins...</td>\n",
       "      <td>https://www.glassdoor.com/partner/jobListing.h...</td>\n",
       "      <td>2.7</td>\n",
       "    </tr>\n",
       "    <tr>\n",
       "      <th>1</th>\n",
       "      <td>2</td>\n",
       "      <td>Manager of Data Science</td>\n",
       "      <td>Nuvative, Inc.\\n3.4</td>\n",
       "      <td>Wichita, KS</td>\n",
       "      <td>$106K - $157K (Glassdoor est.)</td>\n",
       "      <td>30d+</td>\n",
       "      <td>https://media.glassdoor.com/sql/1384674/net-pa...</td>\n",
       "      <td>https://www.glassdoor.com/partner/jobListing.h...</td>\n",
       "      <td>3.4</td>\n",
       "    </tr>\n",
       "    <tr>\n",
       "      <th>2</th>\n",
       "      <td>3</td>\n",
       "      <td>Senior Data Product Manager</td>\n",
       "      <td>ProviderTrust\\n4.2</td>\n",
       "      <td>Nashville, TN</td>\n",
       "      <td>$105K - $141K (Glassdoor est.)</td>\n",
       "      <td>11d</td>\n",
       "      <td>https://media.glassdoor.com/sql/1953857/hibob-...</td>\n",
       "      <td>https://www.glassdoor.com/partner/jobListing.h...</td>\n",
       "      <td>4.2</td>\n",
       "    </tr>\n",
       "    <tr>\n",
       "      <th>3</th>\n",
       "      <td>4</td>\n",
       "      <td>Oncology Nurse Navigator</td>\n",
       "      <td>Inizio Engage\\n3.6</td>\n",
       "      <td>Portland, OR</td>\n",
       "      <td>$90K - $113K (Employer est.)</td>\n",
       "      <td>1d</td>\n",
       "      <td>https://media.glassdoor.com/sql/8794153/inizio...</td>\n",
       "      <td>https://www.glassdoor.com/partner/jobListing.h...</td>\n",
       "      <td>3.6</td>\n",
       "    </tr>\n",
       "    <tr>\n",
       "      <th>4</th>\n",
       "      <td>5</td>\n",
       "      <td>Head of Artificial Intelligence – Americas Region</td>\n",
       "      <td>Covestro\\n3.6</td>\n",
       "      <td>Pittsburgh, PA</td>\n",
       "      <td>$89K - $148K (Glassdoor est.)</td>\n",
       "      <td>30d+</td>\n",
       "      <td>https://media.glassdoor.com/sql/27128/covestro...</td>\n",
       "      <td>https://www.glassdoor.com/partner/jobListing.h...</td>\n",
       "      <td>3.6</td>\n",
       "    </tr>\n",
       "  </tbody>\n",
       "</table>\n",
       "</div>"
      ],
      "text/plain": [
       "   Position                                          Job Title  \\\n",
       "0         1                    Associate Stop Loss Underwriter   \n",
       "1         2                            Manager of Data Science   \n",
       "2         3                        Senior Data Product Manager   \n",
       "3         4                           Oncology Nurse Navigator   \n",
       "4         5  Head of Artificial Intelligence – Americas Region   \n",
       "\n",
       "                Company Name        Location                          Salary  \\\n",
       "0  The Insurance Center\\n2.7    Onalaska, WI    $57K - $84K (Glassdoor est.)   \n",
       "1        Nuvative, Inc.\\n3.4     Wichita, KS  $106K - $157K (Glassdoor est.)   \n",
       "2         ProviderTrust\\n4.2   Nashville, TN  $105K - $141K (Glassdoor est.)   \n",
       "3         Inizio Engage\\n3.6    Portland, OR    $90K - $113K (Employer est.)   \n",
       "4              Covestro\\n3.6  Pittsburgh, PA   $89K - $148K (Glassdoor est.)   \n",
       "\n",
       "   Date                                               Logo  \\\n",
       "0  30d+  https://media.glassdoor.com/sql/453835/the-ins...   \n",
       "1  30d+  https://media.glassdoor.com/sql/1384674/net-pa...   \n",
       "2   11d  https://media.glassdoor.com/sql/1953857/hibob-...   \n",
       "3    1d  https://media.glassdoor.com/sql/8794153/inizio...   \n",
       "4  30d+  https://media.glassdoor.com/sql/27128/covestro...   \n",
       "\n",
       "                                            Job Link  Company Rating  \n",
       "0  https://www.glassdoor.com/partner/jobListing.h...             2.7  \n",
       "1  https://www.glassdoor.com/partner/jobListing.h...             3.4  \n",
       "2  https://www.glassdoor.com/partner/jobListing.h...             4.2  \n",
       "3  https://www.glassdoor.com/partner/jobListing.h...             3.6  \n",
       "4  https://www.glassdoor.com/partner/jobListing.h...             3.6  "
      ]
     },
     "execution_count": 2,
     "metadata": {},
     "output_type": "execute_result"
    }
   ],
   "source": [
    "ds_jobs.head()"
   ]
  },
  {
   "cell_type": "markdown",
   "metadata": {},
   "source": [
    "Using the pandas head function we can take a look at the first 5 rows of data within our dataset, right off the bat there a few noticeable features, the most notable being that the salary range seems to hop around $140,000 for all except 2, with only being under $100,000. Another noticeable feature is the recency, when the creator of this file made the dataset they used job listings posted recently and not outdated ones, this paints a positive light for the next few rows and for the dataset in general. Next we will columns and after this we can get into filtering out basic values for any column we feel is necessary."
   ]
  },
  {
   "cell_type": "markdown",
   "metadata": {},
   "source": [
    "---"
   ]
  },
  {
   "cell_type": "code",
   "execution_count": 5,
   "metadata": {},
   "outputs": [
    {
     "data": {
      "text/plain": [
       "Index(['Position', 'Job Title', 'Company Name', 'Location', 'Salary', 'Date',\n",
       "       'Logo', 'Job Link', 'Company Rating'],\n",
       "      dtype='object')"
      ]
     },
     "execution_count": 5,
     "metadata": {},
     "output_type": "execute_result"
    }
   ],
   "source": [
    "ds_jobs.columns"
   ]
  },
  {
   "cell_type": "markdown",
   "metadata": {},
   "source": [
    "The columns we are shown are the typical, the title position company and so on, now that we have a general feel of our dataset we can move on to the next few steps, in these steps we will filter out for certain values and gain a base understanding of our data."
   ]
  },
  {
   "cell_type": "markdown",
   "metadata": {},
   "source": [
    "---"
   ]
  },
  {
   "cell_type": "code",
   "execution_count": null,
   "metadata": {},
   "outputs": [],
   "source": []
  },
  {
   "cell_type": "markdown",
   "metadata": {},
   "source": []
  },
  {
   "cell_type": "markdown",
   "metadata": {},
   "source": [
    "---"
   ]
  }
 ],
 "metadata": {
  "kernelspec": {
   "display_name": "Python 3",
   "language": "python",
   "name": "python3"
  },
  "language_info": {
   "codemirror_mode": {
    "name": "ipython",
    "version": 3
   },
   "file_extension": ".py",
   "mimetype": "text/x-python",
   "name": "python",
   "nbconvert_exporter": "python",
   "pygments_lexer": "ipython3",
   "version": "3.11.4"
  }
 },
 "nbformat": 4,
 "nbformat_minor": 2
}
